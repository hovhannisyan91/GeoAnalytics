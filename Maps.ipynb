{
 "cells": [
  {
   "cell_type": "markdown",
   "metadata": {},
   "source": [
    "# Loading required libraries"
   ]
  },
  {
   "cell_type": "code",
   "execution_count": 40,
   "metadata": {},
   "outputs": [],
   "source": [
    "import geopandas as gpd\n",
    "import pandas as pd\n",
    "import matplotlib.pyplot as plt\n",
    "import json\n",
    "import matplotlib.pyplot as plt\n",
    "from shapely import geometry"
   ]
  },
  {
   "cell_type": "markdown",
   "metadata": {},
   "source": [
    "# Importing Armenia Map Coordinates"
   ]
  },
  {
   "cell_type": "code",
   "execution_count": 41,
   "metadata": {},
   "outputs": [],
   "source": [
    "with open(r\"C:\\Users\\Karen\\Desktop\\MappingStaff\\armenia.json\", errors='ignore') as json_file:\n",
    "    mapdata = json.load(json_file)"
   ]
  },
  {
   "cell_type": "code",
   "execution_count": 43,
   "metadata": {},
   "outputs": [
    {
     "data": {
      "text/plain": [
       "dict_keys(['type', 'arcs', 'transform', 'objects'])"
      ]
     },
     "execution_count": 43,
     "metadata": {},
     "output_type": "execute_result"
    }
   ],
   "source": [
    "mapdata.keys()"
   ]
  },
  {
   "cell_type": "code",
   "execution_count": 30,
   "metadata": {},
   "outputs": [
    {
     "data": {
      "text/html": [
       "<div>\n",
       "<style scoped>\n",
       "    .dataframe tbody tr th:only-of-type {\n",
       "        vertical-align: middle;\n",
       "    }\n",
       "\n",
       "    .dataframe tbody tr th {\n",
       "        vertical-align: top;\n",
       "    }\n",
       "\n",
       "    .dataframe thead th {\n",
       "        text-align: right;\n",
       "    }\n",
       "</style>\n",
       "<table border=\"1\" class=\"dataframe\">\n",
       "  <thead>\n",
       "    <tr style=\"text-align: right;\">\n",
       "      <th></th>\n",
       "      <th>Cell ID</th>\n",
       "      <th>Lat0</th>\n",
       "      <th>Lon0</th>\n",
       "      <th>Lat1</th>\n",
       "      <th>Lon1</th>\n",
       "      <th>Lat2</th>\n",
       "      <th>Lon2</th>\n",
       "      <th>IMSI</th>\n",
       "    </tr>\n",
       "  </thead>\n",
       "  <tbody>\n",
       "    <tr>\n",
       "      <th>0</th>\n",
       "      <td>43011</td>\n",
       "      <td>40.267806</td>\n",
       "      <td>44.617</td>\n",
       "      <td>40.275294</td>\n",
       "      <td>44.626051</td>\n",
       "      <td>40.260317</td>\n",
       "      <td>44.626165</td>\n",
       "      <td>8095</td>\n",
       "    </tr>\n",
       "    <tr>\n",
       "      <th>1</th>\n",
       "      <td>43012</td>\n",
       "      <td>40.267806</td>\n",
       "      <td>44.617</td>\n",
       "      <td>40.257444</td>\n",
       "      <td>44.613480</td>\n",
       "      <td>40.270413</td>\n",
       "      <td>44.604741</td>\n",
       "      <td>9412</td>\n",
       "    </tr>\n",
       "  </tbody>\n",
       "</table>\n",
       "</div>"
      ],
      "text/plain": [
       "   Cell ID       Lat0    Lon0       Lat1       Lon1       Lat2       Lon2  \\\n",
       "0    43011  40.267806  44.617  40.275294  44.626051  40.260317  44.626165   \n",
       "1    43012  40.267806  44.617  40.257444  44.613480  40.270413  44.604741   \n",
       "\n",
       "   IMSI  \n",
       "0  8095  \n",
       "1  9412  "
      ]
     },
     "execution_count": 30,
     "metadata": {},
     "output_type": "execute_result"
    }
   ],
   "source": [
    "data=pd.read_csv(r\"C:\\Users\\Karen\\Desktop\\MappingStaff\\Coordinates.csv\")\n",
    "data=data[['Cell ID', 'Lat0', 'Lon0','Lat1', 'Lon1','Lat2', 'Lon2','IMSI']]\n",
    "data.head(2)\n"
   ]
  },
  {
   "cell_type": "markdown",
   "metadata": {},
   "source": [
    "## Creating shapes for BTS"
   ]
  },
  {
   "cell_type": "code",
   "execution_count": 31,
   "metadata": {},
   "outputs": [
    {
     "data": {
      "text/html": [
       "<div>\n",
       "<style scoped>\n",
       "    .dataframe tbody tr th:only-of-type {\n",
       "        vertical-align: middle;\n",
       "    }\n",
       "\n",
       "    .dataframe tbody tr th {\n",
       "        vertical-align: top;\n",
       "    }\n",
       "\n",
       "    .dataframe thead th {\n",
       "        text-align: right;\n",
       "    }\n",
       "</style>\n",
       "<table border=\"1\" class=\"dataframe\">\n",
       "  <thead>\n",
       "    <tr style=\"text-align: right;\">\n",
       "      <th></th>\n",
       "      <th>Cell ID</th>\n",
       "      <th>Lat0</th>\n",
       "      <th>Lon0</th>\n",
       "      <th>Lat1</th>\n",
       "      <th>Lon1</th>\n",
       "      <th>Lat2</th>\n",
       "      <th>Lon2</th>\n",
       "      <th>IMSI</th>\n",
       "    </tr>\n",
       "  </thead>\n",
       "  <tbody>\n",
       "    <tr>\n",
       "      <th>0</th>\n",
       "      <td>43011</td>\n",
       "      <td>40.267806</td>\n",
       "      <td>44.617</td>\n",
       "      <td>40.275294</td>\n",
       "      <td>44.626051</td>\n",
       "      <td>40.260317</td>\n",
       "      <td>44.626165</td>\n",
       "      <td>8095</td>\n",
       "    </tr>\n",
       "    <tr>\n",
       "      <th>1</th>\n",
       "      <td>43012</td>\n",
       "      <td>40.267806</td>\n",
       "      <td>44.617</td>\n",
       "      <td>40.257444</td>\n",
       "      <td>44.613480</td>\n",
       "      <td>40.270413</td>\n",
       "      <td>44.604741</td>\n",
       "      <td>9412</td>\n",
       "    </tr>\n",
       "  </tbody>\n",
       "</table>\n",
       "</div>"
      ],
      "text/plain": [
       "   Cell ID       Lat0    Lon0       Lat1       Lon1       Lat2       Lon2  \\\n",
       "0    43011  40.267806  44.617  40.275294  44.626051  40.260317  44.626165   \n",
       "1    43012  40.267806  44.617  40.257444  44.613480  40.270413  44.604741   \n",
       "\n",
       "   IMSI  \n",
       "0  8095  \n",
       "1  9412  "
      ]
     },
     "execution_count": 31,
     "metadata": {},
     "output_type": "execute_result"
    }
   ],
   "source": [
    "poly = []\n",
    "for i in range(len(data)):\n",
    "    p0 = geometry.Point(data['Lat0'][i],data['Lon0'][i])\n",
    "    p01 = geometry.Point(data['Lat1'][i],data['Lon1'][i])\n",
    "    p02 = geometry.Point(data['Lat2'][i],data['Lon2'][i])\n",
    "    pointList=[p0,p01,p02,p0]\n",
    "    triang=geometry.Polygon([[p.x, p.y] for p in pointList])\n",
    "    poly.append(triang)\n",
    "#append new shapes to the main data\n",
    "# data['geometry']=poly\n",
    "data.head(2)"
   ]
  },
  {
   "cell_type": "code",
   "execution_count": 38,
   "metadata": {},
   "outputs": [],
   "source": [
    "geodata=gpd.GeoDataFrame(data, geometry=poly)"
   ]
  },
  {
   "cell_type": "code",
   "execution_count": 39,
   "metadata": {},
   "outputs": [
    {
     "name": "stdout",
     "output_type": "stream",
     "text": [
      "                                            geometry\n",
      "0  POLYGON ((36.394272 -18.626726, 36.394272 -18....\n"
     ]
    }
   ],
   "source": [
    "import geopandas as gpd\n",
    "study_area = json.loads(\"\"\"\n",
    " {\"type\": \"FeatureCollection\", \"features\": [{\"type\": \"Feature\", \"properties\": {}, \"geometry\": {\"type\": \"Polygon\", \"coordinates\": [[[36.394272, -18.626726], [36.394272, -18.558391], [36.489716, -18.558391], [36.489716, -18.626726], [36.394272, -18.626726]]]}}]}\n",
    "\"\"\")\n",
    "gdf = gpd.GeoDataFrame.from_features(study_area[\"features\"])\n",
    "print(gdf.head())"
   ]
  }
 ],
 "metadata": {
  "kernelspec": {
   "display_name": "Python 3",
   "language": "python",
   "name": "python3"
  },
  "language_info": {
   "codemirror_mode": {
    "name": "ipython",
    "version": 3
   },
   "file_extension": ".py",
   "mimetype": "text/x-python",
   "name": "python",
   "nbconvert_exporter": "python",
   "pygments_lexer": "ipython3",
   "version": "3.7.3"
  }
 },
 "nbformat": 4,
 "nbformat_minor": 2
}
