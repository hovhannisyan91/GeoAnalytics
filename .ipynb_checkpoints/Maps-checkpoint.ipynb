{
 "cells": [
  {
   "cell_type": "markdown",
   "metadata": {},
   "source": [
    "# Loading required libraries"
   ]
  },
  {
   "cell_type": "code",
   "execution_count": 8,
   "metadata": {},
   "outputs": [],
   "source": [
    "import geopandas as gpd\n",
    "import pandas as pd\n",
    "import matplotlib.pyplot as plt\n",
    "import json\n",
    "import matplotlib.pyplot as plt\n",
    "from shapely import geometry\n",
    "from shapely.geometry import Polygon"
   ]
  },
  {
   "cell_type": "markdown",
   "metadata": {},
   "source": [
    "# Importing Armenia Map Coordinates\n",
    "https://github.com/nmandery/h3ronpy"
   ]
  },
  {
   "cell_type": "code",
   "execution_count": 2,
   "metadata": {},
   "outputs": [],
   "source": [
    "with open(r\"geojson\\armenia.json\", errors='ignore') as json_file:\n",
    "    mapdata = json.load(json_file)"
   ]
  },
  {
   "cell_type": "code",
   "execution_count": 3,
   "metadata": {},
   "outputs": [
    {
     "data": {
      "text/plain": [
       "dict_keys(['type', 'arcs', 'transform', 'objects'])"
      ]
     },
     "execution_count": 3,
     "metadata": {},
     "output_type": "execute_result"
    }
   ],
   "source": [
    "mapdata.keys()"
   ]
  },
  {
   "cell_type": "markdown",
   "metadata": {},
   "source": [
    "## Reading the same data via geopandas"
   ]
  },
  {
   "cell_type": "code",
   "execution_count": 49,
   "metadata": {},
   "outputs": [
    {
     "data": {
      "text/html": [
       "<div>\n",
       "<style scoped>\n",
       "    .dataframe tbody tr th:only-of-type {\n",
       "        vertical-align: middle;\n",
       "    }\n",
       "\n",
       "    .dataframe tbody tr th {\n",
       "        vertical-align: top;\n",
       "    }\n",
       "\n",
       "    .dataframe thead th {\n",
       "        text-align: right;\n",
       "    }\n",
       "</style>\n",
       "<table border=\"1\" class=\"dataframe\">\n",
       "  <thead>\n",
       "    <tr style=\"text-align: right;\">\n",
       "      <th></th>\n",
       "      <th>id</th>\n",
       "      <th>featurecla</th>\n",
       "      <th>scalerank</th>\n",
       "      <th>adm1_code</th>\n",
       "      <th>diss_me</th>\n",
       "      <th>iso_3166_2</th>\n",
       "      <th>wikipedia</th>\n",
       "      <th>iso_a2</th>\n",
       "      <th>adm0_sr</th>\n",
       "      <th>name</th>\n",
       "      <th>...</th>\n",
       "      <th>hasc_maybe</th>\n",
       "      <th>postal</th>\n",
       "      <th>sameascity</th>\n",
       "      <th>woe_name</th>\n",
       "      <th>latitude</th>\n",
       "      <th>longitude</th>\n",
       "      <th>admin</th>\n",
       "      <th>gn_a1_code</th>\n",
       "      <th>min_zoom</th>\n",
       "      <th>geometry</th>\n",
       "    </tr>\n",
       "  </thead>\n",
       "  <tbody>\n",
       "    <tr>\n",
       "      <th>0</th>\n",
       "      <td>TV</td>\n",
       "      <td>Admin-1 scale rank</td>\n",
       "      <td>9</td>\n",
       "      <td>ARM-1670</td>\n",
       "      <td>1670</td>\n",
       "      <td>AM-TV</td>\n",
       "      <td></td>\n",
       "      <td>AM</td>\n",
       "      <td>1</td>\n",
       "      <td>Tavush</td>\n",
       "      <td>...</td>\n",
       "      <td></td>\n",
       "      <td>TV</td>\n",
       "      <td>-99</td>\n",
       "      <td>Tavush</td>\n",
       "      <td>40.8883</td>\n",
       "      <td>45.1763</td>\n",
       "      <td>Armenia</td>\n",
       "      <td>09</td>\n",
       "      <td>9</td>\n",
       "      <td>POLYGON ((45.37346 40.65136, 45.37346 40.65136...</td>\n",
       "    </tr>\n",
       "    <tr>\n",
       "      <th>1</th>\n",
       "      <td>LO</td>\n",
       "      <td>Admin-1 scale rank</td>\n",
       "      <td>9</td>\n",
       "      <td>ARM-1674</td>\n",
       "      <td>1674</td>\n",
       "      <td>AM-LO</td>\n",
       "      <td></td>\n",
       "      <td>AM</td>\n",
       "      <td>1</td>\n",
       "      <td>Lori</td>\n",
       "      <td>...</td>\n",
       "      <td></td>\n",
       "      <td>LO</td>\n",
       "      <td>-99</td>\n",
       "      <td>Lori</td>\n",
       "      <td>40.9347</td>\n",
       "      <td>44.4524</td>\n",
       "      <td>Armenia</td>\n",
       "      <td>06</td>\n",
       "      <td>9</td>\n",
       "      <td>POLYGON ((44.85391 41.22350, 44.85391 41.22350...</td>\n",
       "    </tr>\n",
       "    <tr>\n",
       "      <th>2</th>\n",
       "      <td>SH</td>\n",
       "      <td>Admin-1 scale rank</td>\n",
       "      <td>9</td>\n",
       "      <td>ARM-1555</td>\n",
       "      <td>1555</td>\n",
       "      <td>AM-SH</td>\n",
       "      <td></td>\n",
       "      <td>AM</td>\n",
       "      <td>1</td>\n",
       "      <td>Shirak</td>\n",
       "      <td>...</td>\n",
       "      <td></td>\n",
       "      <td>SH</td>\n",
       "      <td>-99</td>\n",
       "      <td>Shirak</td>\n",
       "      <td>40.8194</td>\n",
       "      <td>43.8178</td>\n",
       "      <td>Armenia</td>\n",
       "      <td>07</td>\n",
       "      <td>9</td>\n",
       "      <td>POLYGON ((43.97766 41.16448, 43.97766 41.16319...</td>\n",
       "    </tr>\n",
       "    <tr>\n",
       "      <th>3</th>\n",
       "      <td>GR</td>\n",
       "      <td>Admin-1 scale rank</td>\n",
       "      <td>9</td>\n",
       "      <td>ARM-1672</td>\n",
       "      <td>1672</td>\n",
       "      <td>AM-GR</td>\n",
       "      <td></td>\n",
       "      <td>AM</td>\n",
       "      <td>1</td>\n",
       "      <td>Gegharkunik</td>\n",
       "      <td>...</td>\n",
       "      <td></td>\n",
       "      <td>GR</td>\n",
       "      <td>-99</td>\n",
       "      <td>Gegharkunik</td>\n",
       "      <td>40.2780</td>\n",
       "      <td>45.3848</td>\n",
       "      <td>Armenia</td>\n",
       "      <td>04</td>\n",
       "      <td>9</td>\n",
       "      <td>MULTIPOLYGON (((45.37346 40.65136, 45.37346 40...</td>\n",
       "    </tr>\n",
       "    <tr>\n",
       "      <th>4</th>\n",
       "      <td>VD</td>\n",
       "      <td>Admin-1 scale rank</td>\n",
       "      <td>9</td>\n",
       "      <td>ARM-1733</td>\n",
       "      <td>1733</td>\n",
       "      <td>AM-VD</td>\n",
       "      <td></td>\n",
       "      <td>AM</td>\n",
       "      <td>1</td>\n",
       "      <td>Vayots Dzor</td>\n",
       "      <td>...</td>\n",
       "      <td></td>\n",
       "      <td>VD</td>\n",
       "      <td>-99</td>\n",
       "      <td>Vayots Dzor</td>\n",
       "      <td>39.7183</td>\n",
       "      <td>45.4421</td>\n",
       "      <td>Armenia</td>\n",
       "      <td>10</td>\n",
       "      <td>9</td>\n",
       "      <td>POLYGON ((45.57774 39.98394, 45.57932 39.97020...</td>\n",
       "    </tr>\n",
       "  </tbody>\n",
       "</table>\n",
       "<p>5 rows × 25 columns</p>\n",
       "</div>"
      ],
      "text/plain": [
       "   id          featurecla  scalerank adm1_code  diss_me iso_3166_2 wikipedia  \\\n",
       "0  TV  Admin-1 scale rank          9  ARM-1670     1670      AM-TV             \n",
       "1  LO  Admin-1 scale rank          9  ARM-1674     1674      AM-LO             \n",
       "2  SH  Admin-1 scale rank          9  ARM-1555     1555      AM-SH             \n",
       "3  GR  Admin-1 scale rank          9  ARM-1672     1672      AM-GR             \n",
       "4  VD  Admin-1 scale rank          9  ARM-1733     1733      AM-VD             \n",
       "\n",
       "  iso_a2  adm0_sr         name  ... hasc_maybe postal sameascity     woe_name  \\\n",
       "0     AM        1       Tavush  ...                TV        -99       Tavush   \n",
       "1     AM        1         Lori  ...                LO        -99         Lori   \n",
       "2     AM        1       Shirak  ...                SH        -99       Shirak   \n",
       "3     AM        1  Gegharkunik  ...                GR        -99  Gegharkunik   \n",
       "4     AM        1  Vayots Dzor  ...                VD        -99  Vayots Dzor   \n",
       "\n",
       "  latitude longitude    admin  gn_a1_code min_zoom  \\\n",
       "0  40.8883   45.1763  Armenia          09        9   \n",
       "1  40.9347   44.4524  Armenia          06        9   \n",
       "2  40.8194   43.8178  Armenia          07        9   \n",
       "3  40.2780   45.3848  Armenia          04        9   \n",
       "4  39.7183   45.4421  Armenia          10        9   \n",
       "\n",
       "                                            geometry  \n",
       "0  POLYGON ((45.37346 40.65136, 45.37346 40.65136...  \n",
       "1  POLYGON ((44.85391 41.22350, 44.85391 41.22350...  \n",
       "2  POLYGON ((43.97766 41.16448, 43.97766 41.16319...  \n",
       "3  MULTIPOLYGON (((45.37346 40.65136, 45.37346 40...  \n",
       "4  POLYGON ((45.57774 39.98394, 45.57932 39.97020...  \n",
       "\n",
       "[5 rows x 25 columns]"
      ]
     },
     "execution_count": 49,
     "metadata": {},
     "output_type": "execute_result"
    }
   ],
   "source": [
    "gpdata=gpd.read_file(r\"geojson\\armenia.json\")\n",
    "gpdata.head()"
   ]
  },
  {
   "cell_type": "code",
   "execution_count": 47,
   "metadata": {},
   "outputs": [
    {
     "data": {
      "text/plain": [
       "<AxesSubplot:>"
      ]
     },
     "execution_count": 47,
     "metadata": {},
     "output_type": "execute_result"
    },
    {
     "data": {
      "image/png": "[encoded data removed]",
      "text/plain": [
       "<Figure size 432x288 with 1 Axes>"
      ]
     },
     "metadata": {
      "needs_background": "light"
     },
     "output_type": "display_data"
    }
   ],
   "source": [
    "gpdata.plot()"
   ]
  },
  {
   "cell_type": "code",
   "execution_count": 44,
   "metadata": {},
   "outputs": [],
   "source": [
    "import pyproj\n",
    "\n",
    "\n",
    "\n",
    "\n",
    "def grid(geodata=gpdata,height=50,width=50):\n",
    "    #extracting the edpoints of the geodata\n",
    "    xmin, ymin, xmax, ymax = geodata.total_bounds\n",
    "   \n",
    "    \n",
    "    return \"{0},{1},{2},{3}\".format(ymin, xmin, ymax, xmax)\n",
    "    "
   ]
  },
  {
   "cell_type": "code",
   "execution_count": 106,
   "metadata": {},
   "outputs": [],
   "source": [
    "length = 5000\n",
    "wide = 5000\n",
    "\n",
    "#  Set up transformers: FROM>>>TO, EPSG:3857 is metric\n",
    "to_proxy = pyproj.Transformer.from_crs('epsg:4326', 'epsg:3857')\n",
    "to_original = pyproj.Transformer.from_crs('epsg:3857', 'epsg:4326')\n",
    "\n",
    "transformed_sw = to_proxy.transform(xmin,ymin) # Transform NW point to 3857\n",
    "transformed_ne = to_proxy.transform(xmax, ymax) # .. same for SE\n",
    "\n",
    "\n",
    "cols = list(np.arange(transformed_sw[0], transformed_ne[0] + wide, wide))\n",
    "rows = list(np.arange(transformed_sw[1], transformed_ne[1] + length, length))\n",
    "\n"
   ]
  },
  {
   "cell_type": "code",
   "execution_count": 107,
   "metadata": {},
   "outputs": [],
   "source": [
    "polygons = []\n",
    "for x in cols:\n",
    "    for y in rows:\n",
    "        polygons.append(Polygon([to_original.transform(x, y), to_original.transform(x+wide, y), to_original.transform(x+wide, y+length), to_original.transform(x, y+length)]))\n",
    "\n",
    "grid = gpd.GeoDataFrame({'geometry':polygons})\n"
   ]
  },
  {
   "cell_type": "code",
   "execution_count": 98,
   "metadata": {},
   "outputs": [
    {
     "data": {
      "text/plain": [
       "<AxesSubplot:>"
      ]
     },
     "execution_count": 98,
     "metadata": {},
     "output_type": "execute_result"
    },
    {
     "data": {
      "image/png": "[encoded data removed]",
      "text/plain": [
       "<Figure size 432x288 with 1 Axes>"
      ]
     },
     "metadata": {
      "needs_background": "light"
     },
     "output_type": "display_data"
    }
   ],
   "source": [
    "grid.plot()"
   ]
  },
  {
   "cell_type": "code",
   "execution_count": 103,
   "metadata": {},
   "outputs": [],
   "source": [
    "grid.to_file(\"grids.geojson\", driver='GeoJSON')"
   ]
  },
  {
   "cell_type": "code",
   "execution_count": null,
   "metadata": {},
   "outputs": [],
   "source": []
  }
 ],
 "metadata": {
  "kernelspec": {
   "display_name": "Python 3 (ipykernel)",
   "language": "python",
   "name": "python3"
  },
  "language_info": {
   "codemirror_mode": {
    "name": "ipython",
    "version": 3
   },
   "file_extension": ".py",
   "mimetype": "text/x-python",
   "name": "python",
   "nbconvert_exporter": "python",
   "pygments_lexer": "ipython3",
   "version": "3.8.12"
  }
 },
 "nbformat": 4,
 "nbformat_minor": 2
}
