{
 "cells": [
  {
   "cell_type": "code",
   "execution_count": 2,
   "metadata": {},
   "outputs": [],
   "source": [
    "from sklearn.linear_model import LinearRegression\n",
    "from sklearn.metrics import mean_squared_error\n",
    "from sklearn.metrics import r2_score\n",
    "import pandas as pd\n",
    "import numpy as np\n",
    "import matplotlib.pyplot as plt\n",
    "import os\n",
    "import glob\n",
    "import pandas as pd\n",
    "import numpy as np\n",
    "import sklearn"
   ]
  },
  {
   "cell_type": "code",
   "execution_count": 4,
   "metadata": {},
   "outputs": [],
   "source": [
    "os.chdir(\"C:/Users/Karen/Desktop/JungleProof\\ROAS Calculator\")"
   ]
  },
  {
   "cell_type": "code",
   "execution_count": 6,
   "metadata": {},
   "outputs": [
    {
     "data": {
      "text/plain": [
       "(5581, 3)"
      ]
     },
     "execution_count": 6,
     "metadata": {},
     "output_type": "execute_result"
    }
   ],
   "source": [
    "data=pd.read_csv('Edited_Data_Updated.csv')\n",
    "data.head(2)\n",
    "data=data.dropna()\n",
    "\n",
    "data.head(100)\n",
    "data.shape"
   ]
  },
  {
   "cell_type": "markdown",
   "metadata": {},
   "source": [
    "## Without variable transformation"
   ]
  },
  {
   "cell_type": "code",
   "execution_count": 24,
   "metadata": {},
   "outputs": [
    {
     "name": "stdout",
     "output_type": "stream",
     "text": [
      "2.0775212997106216\n"
     ]
    },
    {
     "data": {
      "text/plain": [
       "array([-0.00609719,  0.10390646])"
      ]
     },
     "execution_count": 24,
     "metadata": {},
     "output_type": "execute_result"
    }
   ],
   "source": [
    "regressor = LinearRegression()\n",
    "X=data[['Price', 'Adds to cart']]\n",
    "y=data['Website purchases']\n",
    "regressor.fit(X,y)\n",
    "\n",
    "regressor.predict(X)\n",
    "\n",
    "round(r2_score(y,regressor.predict(X))*100,2)\n",
    "# round(mean_squared_error(y,regressor.predict(X)))\n",
    "\n",
    "regressor.score(X,y)\n",
    "\n",
    "print(regressor.intercept_)\n",
    "regressor.coef_\n",
    "# a+b(Price)+cx2*(BuyNow)\n",
    "\n",
    "# ROAS= Pr*Purch/Adsspent"
   ]
  },
  {
   "cell_type": "markdown",
   "metadata": {},
   "source": [
    "## With Transformation"
   ]
  },
  {
   "cell_type": "code",
   "execution_count": 9,
   "metadata": {},
   "outputs": [],
   "source": [
    "from sklearn.preprocessing import StandardScaler\n",
    "sc_X = StandardScaler()\n",
    "X_sc = sc_X.fit_transform(X)\n",
    "# sc_X.inverse_transform()\n",
    "sc_y = StandardScaler()\n",
    "y_sc = sc_y.fit_transform(y.values.reshape(-1,1))"
   ]
  },
  {
   "cell_type": "code",
   "execution_count": 11,
   "metadata": {},
   "outputs": [
    {
     "data": {
      "text/plain": [
       "39.55"
      ]
     },
     "execution_count": 11,
     "metadata": {},
     "output_type": "execute_result"
    }
   ],
   "source": [
    "regressor.fit(X_sc,y_sc)\n",
    "\n",
    "regressor.predict(X_sc)\n",
    "\n",
    "round(r2_score(y_sc,regressor.predict(X_sc))*100,2)\n",
    "# round(mean_squared_error(y_sc,regressor.predict(X_sc)))"
   ]
  }
 ],
 "metadata": {
  "kernelspec": {
   "display_name": "Python 3",
   "language": "python",
   "name": "python3"
  },
  "language_info": {
   "codemirror_mode": {
    "name": "ipython",
    "version": 3
   },
   "file_extension": ".py",
   "mimetype": "text/x-python",
   "name": "python",
   "nbconvert_exporter": "python",
   "pygments_lexer": "ipython3",
   "version": "3.7.3"
  }
 },
 "nbformat": 4,
 "nbformat_minor": 2
}
