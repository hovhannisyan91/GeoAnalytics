{
 "cells": [
  {
   "cell_type": "markdown",
   "metadata": {},
   "source": [
    "# Loading required libraries"
   ]
  },
  {
   "cell_type": "code",
   "execution_count": 154,
   "metadata": {},
   "outputs": [],
   "source": [
    "import geopandas as gpd\n",
    "import pandas as pd\n",
    "import matplotlib.pyplot as plt\n",
    "import json\n",
    "import matplotlib.pyplot as plt\n",
    "from shapely import geometry\n",
    "from shapely.geometry import Polygon"
   ]
  },
  {
   "cell_type": "markdown",
   "metadata": {},
   "source": [
    "# Importing Armenia Map Coordinates\n",
    "https://github.com/nmandery/h3ronpy"
   ]
  },
  {
   "cell_type": "code",
   "execution_count": 155,
   "metadata": {},
   "outputs": [
    {
     "data": {
      "text/html": [
       "<div>\n",
       "<style scoped>\n",
       "    .dataframe tbody tr th:only-of-type {\n",
       "        vertical-align: middle;\n",
       "    }\n",
       "\n",
       "    .dataframe tbody tr th {\n",
       "        vertical-align: top;\n",
       "    }\n",
       "\n",
       "    .dataframe thead th {\n",
       "        text-align: right;\n",
       "    }\n",
       "</style>\n",
       "<table border=\"1\" class=\"dataframe\">\n",
       "  <thead>\n",
       "    <tr style=\"text-align: right;\">\n",
       "      <th></th>\n",
       "      <th>id</th>\n",
       "      <th>featurecla</th>\n",
       "      <th>scalerank</th>\n",
       "      <th>adm1_code</th>\n",
       "      <th>diss_me</th>\n",
       "      <th>iso_3166_2</th>\n",
       "      <th>wikipedia</th>\n",
       "      <th>iso_a2</th>\n",
       "      <th>adm0_sr</th>\n",
       "      <th>name</th>\n",
       "      <th>...</th>\n",
       "      <th>hasc_maybe</th>\n",
       "      <th>postal</th>\n",
       "      <th>sameascity</th>\n",
       "      <th>woe_name</th>\n",
       "      <th>latitude</th>\n",
       "      <th>longitude</th>\n",
       "      <th>admin</th>\n",
       "      <th>gn_a1_code</th>\n",
       "      <th>min_zoom</th>\n",
       "      <th>geometry</th>\n",
       "    </tr>\n",
       "  </thead>\n",
       "  <tbody>\n",
       "    <tr>\n",
       "      <th>0</th>\n",
       "      <td>TV</td>\n",
       "      <td>Admin-1 scale rank</td>\n",
       "      <td>9</td>\n",
       "      <td>ARM-1670</td>\n",
       "      <td>1670</td>\n",
       "      <td>AM-TV</td>\n",
       "      <td></td>\n",
       "      <td>AM</td>\n",
       "      <td>1</td>\n",
       "      <td>Tavush</td>\n",
       "      <td>...</td>\n",
       "      <td></td>\n",
       "      <td>TV</td>\n",
       "      <td>-99</td>\n",
       "      <td>Tavush</td>\n",
       "      <td>40.8883</td>\n",
       "      <td>45.1763</td>\n",
       "      <td>Armenia</td>\n",
       "      <td>09</td>\n",
       "      <td>9</td>\n",
       "      <td>POLYGON ((45.37346 40.65136, 45.37346 40.65136...</td>\n",
       "    </tr>\n",
       "    <tr>\n",
       "      <th>1</th>\n",
       "      <td>LO</td>\n",
       "      <td>Admin-1 scale rank</td>\n",
       "      <td>9</td>\n",
       "      <td>ARM-1674</td>\n",
       "      <td>1674</td>\n",
       "      <td>AM-LO</td>\n",
       "      <td></td>\n",
       "      <td>AM</td>\n",
       "      <td>1</td>\n",
       "      <td>Lori</td>\n",
       "      <td>...</td>\n",
       "      <td></td>\n",
       "      <td>LO</td>\n",
       "      <td>-99</td>\n",
       "      <td>Lori</td>\n",
       "      <td>40.9347</td>\n",
       "      <td>44.4524</td>\n",
       "      <td>Armenia</td>\n",
       "      <td>06</td>\n",
       "      <td>9</td>\n",
       "      <td>POLYGON ((44.85391 41.22350, 44.85391 41.22350...</td>\n",
       "    </tr>\n",
       "    <tr>\n",
       "      <th>2</th>\n",
       "      <td>SH</td>\n",
       "      <td>Admin-1 scale rank</td>\n",
       "      <td>9</td>\n",
       "      <td>ARM-1555</td>\n",
       "      <td>1555</td>\n",
       "      <td>AM-SH</td>\n",
       "      <td></td>\n",
       "      <td>AM</td>\n",
       "      <td>1</td>\n",
       "      <td>Shirak</td>\n",
       "      <td>...</td>\n",
       "      <td></td>\n",
       "      <td>SH</td>\n",
       "      <td>-99</td>\n",
       "      <td>Shirak</td>\n",
       "      <td>40.8194</td>\n",
       "      <td>43.8178</td>\n",
       "      <td>Armenia</td>\n",
       "      <td>07</td>\n",
       "      <td>9</td>\n",
       "      <td>POLYGON ((43.97766 41.16448, 43.97766 41.16319...</td>\n",
       "    </tr>\n",
       "    <tr>\n",
       "      <th>3</th>\n",
       "      <td>GR</td>\n",
       "      <td>Admin-1 scale rank</td>\n",
       "      <td>9</td>\n",
       "      <td>ARM-1672</td>\n",
       "      <td>1672</td>\n",
       "      <td>AM-GR</td>\n",
       "      <td></td>\n",
       "      <td>AM</td>\n",
       "      <td>1</td>\n",
       "      <td>Gegharkunik</td>\n",
       "      <td>...</td>\n",
       "      <td></td>\n",
       "      <td>GR</td>\n",
       "      <td>-99</td>\n",
       "      <td>Gegharkunik</td>\n",
       "      <td>40.2780</td>\n",
       "      <td>45.3848</td>\n",
       "      <td>Armenia</td>\n",
       "      <td>04</td>\n",
       "      <td>9</td>\n",
       "      <td>MULTIPOLYGON (((45.37346 40.65136, 45.37346 40...</td>\n",
       "    </tr>\n",
       "    <tr>\n",
       "      <th>4</th>\n",
       "      <td>VD</td>\n",
       "      <td>Admin-1 scale rank</td>\n",
       "      <td>9</td>\n",
       "      <td>ARM-1733</td>\n",
       "      <td>1733</td>\n",
       "      <td>AM-VD</td>\n",
       "      <td></td>\n",
       "      <td>AM</td>\n",
       "      <td>1</td>\n",
       "      <td>Vayots Dzor</td>\n",
       "      <td>...</td>\n",
       "      <td></td>\n",
       "      <td>VD</td>\n",
       "      <td>-99</td>\n",
       "      <td>Vayots Dzor</td>\n",
       "      <td>39.7183</td>\n",
       "      <td>45.4421</td>\n",
       "      <td>Armenia</td>\n",
       "      <td>10</td>\n",
       "      <td>9</td>\n",
       "      <td>POLYGON ((45.57774 39.98394, 45.57932 39.97020...</td>\n",
       "    </tr>\n",
       "  </tbody>\n",
       "</table>\n",
       "<p>5 rows × 25 columns</p>\n",
       "</div>"
      ],
      "text/plain": [
       "   id          featurecla  scalerank adm1_code  diss_me iso_3166_2 wikipedia  \\\n",
       "0  TV  Admin-1 scale rank          9  ARM-1670     1670      AM-TV             \n",
       "1  LO  Admin-1 scale rank          9  ARM-1674     1674      AM-LO             \n",
       "2  SH  Admin-1 scale rank          9  ARM-1555     1555      AM-SH             \n",
       "3  GR  Admin-1 scale rank          9  ARM-1672     1672      AM-GR             \n",
       "4  VD  Admin-1 scale rank          9  ARM-1733     1733      AM-VD             \n",
       "\n",
       "  iso_a2  adm0_sr         name  ... hasc_maybe postal sameascity     woe_name  \\\n",
       "0     AM        1       Tavush  ...                TV        -99       Tavush   \n",
       "1     AM        1         Lori  ...                LO        -99         Lori   \n",
       "2     AM        1       Shirak  ...                SH        -99       Shirak   \n",
       "3     AM        1  Gegharkunik  ...                GR        -99  Gegharkunik   \n",
       "4     AM        1  Vayots Dzor  ...                VD        -99  Vayots Dzor   \n",
       "\n",
       "  latitude longitude    admin  gn_a1_code min_zoom  \\\n",
       "0  40.8883   45.1763  Armenia          09        9   \n",
       "1  40.9347   44.4524  Armenia          06        9   \n",
       "2  40.8194   43.8178  Armenia          07        9   \n",
       "3  40.2780   45.3848  Armenia          04        9   \n",
       "4  39.7183   45.4421  Armenia          10        9   \n",
       "\n",
       "                                            geometry  \n",
       "0  POLYGON ((45.37346 40.65136, 45.37346 40.65136...  \n",
       "1  POLYGON ((44.85391 41.22350, 44.85391 41.22350...  \n",
       "2  POLYGON ((43.97766 41.16448, 43.97766 41.16319...  \n",
       "3  MULTIPOLYGON (((45.37346 40.65136, 45.37346 40...  \n",
       "4  POLYGON ((45.57774 39.98394, 45.57932 39.97020...  \n",
       "\n",
       "[5 rows x 25 columns]"
      ]
     },
     "execution_count": 155,
     "metadata": {},
     "output_type": "execute_result"
    }
   ],
   "source": [
    "gpdata=gpd.read_file(r\"geojson\\armenia.geojson\")\n",
    "gpdata.head()"
   ]
  },
  {
   "cell_type": "code",
   "execution_count": 156,
   "metadata": {},
   "outputs": [
    {
     "data": {
      "text/plain": [
       "<Geographic 2D CRS: EPSG:4326>\n",
       "Name: WGS 84\n",
       "Axis Info [ellipsoidal]:\n",
       "- Lat[north]: Geodetic latitude (degree)\n",
       "- Lon[east]: Geodetic longitude (degree)\n",
       "Area of Use:\n",
       "- name: World.\n",
       "- bounds: (-180.0, -90.0, 180.0, 90.0)\n",
       "Datum: World Geodetic System 1984 ensemble\n",
       "- Ellipsoid: WGS 84\n",
       "- Prime Meridian: Greenwich"
      ]
     },
     "execution_count": 156,
     "metadata": {},
     "output_type": "execute_result"
    }
   ],
   "source": [
    "gpdata.crs"
   ]
  },
  {
   "cell_type": "code",
   "execution_count": 157,
   "metadata": {
    "scrolled": true
   },
   "outputs": [
    {
     "data": {
      "text/plain": [
       "<AxesSubplot:>"
      ]
     },
     "execution_count": 157,
     "metadata": {},
     "output_type": "execute_result"
    },
    {
     "data": {
      "image/png": "[encoded data removed]",
      "text/plain": [
       "<Figure size 432x288 with 1 Axes>"
      ]
     },
     "metadata": {
      "needs_background": "light"
     },
     "output_type": "display_data"
    }
   ],
   "source": [
    "gpdata.plot()"
   ]
  },
  {
   "cell_type": "code",
   "execution_count": 159,
   "metadata": {},
   "outputs": [],
   "source": [
    "xmin, ymin, xmax, ymax = gpdata.total_bounds"
   ]
  },
  {
   "cell_type": "code",
   "execution_count": 163,
   "metadata": {},
   "outputs": [],
   "source": [
    "length = 1000\n",
    "wide = 1000\n",
    "\n",
    "#  Set up transformers: FROM>>>TO, EPSG:3857 is metric\n",
    "to_proxy = pyproj.Transformer.from_crs('epsg:4326', 'epsg:3857')\n",
    "to_original = pyproj.Transformer.from_crs('epsg:3857', 'epsg:4326')\n",
    "\n",
    "transformed_sw = to_proxy.transform(xmin,ymin) # Transform NW point to 3857\n",
    "transformed_ne = to_proxy.transform(xmax, ymax) # .. same for SE\n",
    "\n",
    "\n",
    "cols = list(np.arange(transformed_sw[0], transformed_ne[0] + wide, wide))\n",
    "rows = list(np.arange(transformed_sw[1], transformed_ne[1] + length, length))\n",
    "\n"
   ]
  },
  {
   "cell_type": "markdown",
   "metadata": {},
   "source": [
    "# Grid loop"
   ]
  },
  {
   "cell_type": "code",
   "execution_count": 166,
   "metadata": {},
   "outputs": [
    {
     "data": {
      "text/html": [
       "<div>\n",
       "<style scoped>\n",
       "    .dataframe tbody tr th:only-of-type {\n",
       "        vertical-align: middle;\n",
       "    }\n",
       "\n",
       "    .dataframe tbody tr th {\n",
       "        vertical-align: top;\n",
       "    }\n",
       "\n",
       "    .dataframe thead th {\n",
       "        text-align: right;\n",
       "    }\n",
       "</style>\n",
       "<table border=\"1\" class=\"dataframe\">\n",
       "  <thead>\n",
       "    <tr style=\"text-align: right;\">\n",
       "      <th></th>\n",
       "      <th>geometry</th>\n",
       "    </tr>\n",
       "  </thead>\n",
       "  <tbody>\n",
       "    <tr>\n",
       "      <th>0</th>\n",
       "      <td>POLYGON ((43.43629 38.86370, 43.43629 38.87268...</td>\n",
       "    </tr>\n",
       "    <tr>\n",
       "      <th>1</th>\n",
       "      <td>POLYGON ((43.44282 38.86370, 43.44282 38.87268...</td>\n",
       "    </tr>\n",
       "    <tr>\n",
       "      <th>2</th>\n",
       "      <td>POLYGON ((43.44934 38.86370, 43.44934 38.87268...</td>\n",
       "    </tr>\n",
       "    <tr>\n",
       "      <th>3</th>\n",
       "      <td>POLYGON ((43.45586 38.86370, 43.45586 38.87268...</td>\n",
       "    </tr>\n",
       "    <tr>\n",
       "      <th>4</th>\n",
       "      <td>POLYGON ((43.46238 38.86370, 43.46238 38.87268...</td>\n",
       "    </tr>\n",
       "  </tbody>\n",
       "</table>\n",
       "</div>"
      ],
      "text/plain": [
       "                                            geometry\n",
       "0  POLYGON ((43.43629 38.86370, 43.43629 38.87268...\n",
       "1  POLYGON ((43.44282 38.86370, 43.44282 38.87268...\n",
       "2  POLYGON ((43.44934 38.86370, 43.44934 38.87268...\n",
       "3  POLYGON ((43.45586 38.86370, 43.45586 38.87268...\n",
       "4  POLYGON ((43.46238 38.86370, 43.46238 38.87268..."
      ]
     },
     "execution_count": 166,
     "metadata": {},
     "output_type": "execute_result"
    }
   ],
   "source": [
    "grid.head()"
   ]
  },
  {
   "cell_type": "code",
   "execution_count": 164,
   "metadata": {},
   "outputs": [],
   "source": [
    "polygons = []\n",
    "for x in cols[0:5]:\n",
    "    for y in rows[0:5]:\n",
    "        polygons.append(Polygon([to_original.transform(x, y), to_original.transform(x+wide, y), to_original.transform(x+wide, y+length), to_original.transform(x, y+length)]))\n",
    "\n",
    "grid = gpd.GeoDataFrame({'geometry':polygons})\n",
    "grid.to_file(\"grids.geojson\", driver='GeoJSON')"
   ]
  },
  {
   "cell_type": "markdown",
   "metadata": {},
   "source": [
    "# Visualizing"
   ]
  },
  {
   "cell_type": "code",
   "execution_count": 180,
   "metadata": {},
   "outputs": [
    {
     "name": "stderr",
     "output_type": "stream",
     "text": [
      "C:\\Users\\user\\AppData\\Local\\Temp/ipykernel_10804/1473447169.py:3: UserWarning: Geometry is in a geographic CRS. Results from 'centroid' are likely incorrect. Use 'GeoSeries.to_crs()' to re-project geometries to a projected CRS before this operation.\n",
      "\n",
      "  cx=grid_geojson.centroid[round(len(grid_geojson.centroid)/2)].x\n",
      "C:\\Users\\user\\AppData\\Local\\Temp/ipykernel_10804/1473447169.py:3: UserWarning: Geometry is in a geographic CRS. Results from 'centroid' are likely incorrect. Use 'GeoSeries.to_crs()' to re-project geometries to a projected CRS before this operation.\n",
      "\n",
      "  cx=grid_geojson.centroid[round(len(grid_geojson.centroid)/2)].x\n",
      "C:\\Users\\user\\AppData\\Local\\Temp/ipykernel_10804/1473447169.py:4: UserWarning: Geometry is in a geographic CRS. Results from 'centroid' are likely incorrect. Use 'GeoSeries.to_crs()' to re-project geometries to a projected CRS before this operation.\n",
      "\n",
      "  cy=grid_geojson.centroid[round(len(grid_geojson.centroid)/2)].y\n",
      "C:\\Users\\user\\AppData\\Local\\Temp/ipykernel_10804/1473447169.py:4: UserWarning: Geometry is in a geographic CRS. Results from 'centroid' are likely incorrect. Use 'GeoSeries.to_crs()' to re-project geometries to a projected CRS before this operation.\n",
      "\n",
      "  cy=grid_geojson.centroid[round(len(grid_geojson.centroid)/2)].y\n"
     ]
    }
   ],
   "source": [
    "grid_geojson=gpd.read_file(\"grids.geojson\")\n",
    "\n",
    "cx=grid_geojson.centroid[round(len(grid_geojson.centroid)/2)].x\n",
    "cy=grid_geojson.centroid[round(len(grid_geojson.centroid)/2)].y\n"
   ]
  },
  {
   "cell_type": "code",
   "execution_count": 183,
   "metadata": {},
   "outputs": [
    {
     "data": {
      "text/html": [
       "<div style=\"width:100%;\"><div style=\"position:relative;width:100%;height:0;padding-bottom:60%;\"><span style=\"color:#565656\">Make this Notebook Trusted to load map: File -> Trust Notebook</span><iframe srcdoc=\"&lt;!DOCTYPE html&gt;\n",
       "&lt;head&gt;    \n",
       "    &lt;meta http-equiv=&quot;content-type&quot; content=&quot;text/html; charset=UTF-8&quot; /&gt;\n",
       "    \n",
       "        &lt;script&gt;\n",
       "            L_NO_TOUCH = false;\n",
       "            L_DISABLE_3D = false;\n",
       "        &lt;/script&gt;\n",
       "    \n",
       "    &lt;style&gt;html, body {width: 100%;height: 100%;margin: 0;padding: 0;}&lt;/style&gt;\n",
       "    &lt;style&gt;#map {position:absolute;top:0;bottom:0;right:0;left:0;}&lt;/style&gt;\n",
       "    &lt;script src=&quot;https://cdn.jsdelivr.net/npm/leaflet@1.6.0/dist/leaflet.js&quot;&gt;&lt;/script&gt;\n",
       "    &lt;script src=&quot;https://code.jquery.com/jquery-1.12.4.min.js&quot;&gt;&lt;/script&gt;\n",
       "    &lt;script src=&quot;https://maxcdn.bootstrapcdn.com/bootstrap/3.2.0/js/bootstrap.min.js&quot;&gt;&lt;/script&gt;\n",
       "    &lt;script src=&quot;https://cdnjs.cloudflare.com/ajax/libs/Leaflet.awesome-markers/2.0.2/leaflet.awesome-markers.js&quot;&gt;&lt;/script&gt;\n",
       "    &lt;link rel=&quot;stylesheet&quot; href=&quot;https://cdn.jsdelivr.net/npm/leaflet@1.6.0/dist/leaflet.css&quot;/&gt;\n",
       "    &lt;link rel=&quot;stylesheet&quot; href=&quot;https://maxcdn.bootstrapcdn.com/bootstrap/3.2.0/css/bootstrap.min.css&quot;/&gt;\n",
       "    &lt;link rel=&quot;stylesheet&quot; href=&quot;https://maxcdn.bootstrapcdn.com/bootstrap/3.2.0/css/bootstrap-theme.min.css&quot;/&gt;\n",
       "    &lt;link rel=&quot;stylesheet&quot; href=&quot;https://maxcdn.bootstrapcdn.com/font-awesome/4.6.3/css/font-awesome.min.css&quot;/&gt;\n",
       "    &lt;link rel=&quot;stylesheet&quot; href=&quot;https://cdnjs.cloudflare.com/ajax/libs/Leaflet.awesome-markers/2.0.2/leaflet.awesome-markers.css&quot;/&gt;\n",
       "    &lt;link rel=&quot;stylesheet&quot; href=&quot;https://cdn.jsdelivr.net/gh/python-visualization/folium/folium/templates/leaflet.awesome.rotate.min.css&quot;/&gt;\n",
       "    \n",
       "            &lt;meta name=&quot;viewport&quot; content=&quot;width=device-width,\n",
       "                initial-scale=1.0, maximum-scale=1.0, user-scalable=no&quot; /&gt;\n",
       "            &lt;style&gt;\n",
       "                #map_639c6a47f538fe2fe55221456ee8910d {\n",
       "                    position: relative;\n",
       "                    width: 100.0%;\n",
       "                    height: 100.0%;\n",
       "                    left: 0.0%;\n",
       "                    top: 0.0%;\n",
       "                }\n",
       "            &lt;/style&gt;\n",
       "        \n",
       "&lt;/head&gt;\n",
       "&lt;body&gt;    \n",
       "    \n",
       "            &lt;div class=&quot;folium-map&quot; id=&quot;map_639c6a47f538fe2fe55221456ee8910d&quot; &gt;&lt;/div&gt;\n",
       "        \n",
       "&lt;/body&gt;\n",
       "&lt;script&gt;    \n",
       "    \n",
       "            var map_639c6a47f538fe2fe55221456ee8910d = L.map(\n",
       "                &quot;map_639c6a47f538fe2fe55221456ee8910d&quot;,\n",
       "                {\n",
       "                    center: [43.452599251250234, 38.88615915610299],\n",
       "                    crs: L.CRS.EPSG3857,\n",
       "                    zoom: 15,\n",
       "                    zoomControl: true,\n",
       "                    preferCanvas: false,\n",
       "                }\n",
       "            );\n",
       "\n",
       "            \n",
       "\n",
       "        \n",
       "    \n",
       "            var tile_layer_1308694339f70895a197431132188983 = L.tileLayer(\n",
       "                &quot;https://{s}.tile.openstreetmap.org/{z}/{x}/{y}.png&quot;,\n",
       "                {&quot;attribution&quot;: &quot;Data by \\u0026copy; \\u003ca href=\\&quot;http://openstreetmap.org\\&quot;\\u003eOpenStreetMap\\u003c/a\\u003e, under \\u003ca href=\\&quot;http://www.openstreetmap.org/copyright\\&quot;\\u003eODbL\\u003c/a\\u003e.&quot;, &quot;detectRetina&quot;: false, &quot;maxNativeZoom&quot;: 18, &quot;maxZoom&quot;: 18, &quot;minZoom&quot;: 0, &quot;noWrap&quot;: false, &quot;opacity&quot;: 1, &quot;subdomains&quot;: &quot;abc&quot;, &quot;tms&quot;: false}\n",
       "            ).addTo(map_639c6a47f538fe2fe55221456ee8910d);\n",
       "        \n",
       "    \n",
       "\n",
       "        function geo_json_3897da9e512c4edfc6d163783d34a4d6_onEachFeature(feature, layer) {\n",
       "            layer.on({\n",
       "            });\n",
       "        };\n",
       "        var geo_json_3897da9e512c4edfc6d163783d34a4d6 = L.geoJson(null, {\n",
       "                onEachFeature: geo_json_3897da9e512c4edfc6d163783d34a4d6_onEachFeature,\n",
       "            \n",
       "        });\n",
       "\n",
       "        function geo_json_3897da9e512c4edfc6d163783d34a4d6_add (data) {\n",
       "            geo_json_3897da9e512c4edfc6d163783d34a4d6\n",
       "                .addData(data)\n",
       "                .addTo(map_639c6a47f538fe2fe55221456ee8910d);\n",
       "        }\n",
       "            geo_json_3897da9e512c4edfc6d163783d34a4d6_add({&quot;bbox&quot;: [43.436293986000074, 38.863701274, 43.4689002973759, 38.908617038205975], &quot;features&quot;: [{&quot;bbox&quot;: [43.436293986000074, 38.863701274, 43.44281665464139, 38.87268442684119], &quot;geometry&quot;: {&quot;coordinates&quot;: [[[43.436293986000074, 38.863701274], [43.436293986000074, 38.87268442684119], [43.44281665464139, 38.87268442684119], [43.44281665464139, 38.863701274], [43.436293986000074, 38.863701274]]], &quot;type&quot;: &quot;Polygon&quot;}, &quot;id&quot;: &quot;0&quot;, &quot;properties&quot;: {}, &quot;type&quot;: &quot;Feature&quot;}, {&quot;bbox&quot;: [43.44281665464139, 38.863701274, 43.449338620108314, 38.87268442684119], &quot;geometry&quot;: {&quot;coordinates&quot;: [[[43.44281665464139, 38.863701274], [43.44281665464139, 38.87268442684119], [43.449338620108314, 38.87268442684119], [43.449338620108314, 38.863701274], [43.44281665464139, 38.863701274]]], &quot;type&quot;: &quot;Polygon&quot;}, &quot;id&quot;: &quot;1&quot;, &quot;properties&quot;: {}, &quot;type&quot;: &quot;Feature&quot;}, {&quot;bbox&quot;: [43.449338620108314, 38.863701274, 43.45585988239214, 38.87268442684119], &quot;geometry&quot;: {&quot;coordinates&quot;: [[[43.449338620108314, 38.863701274], [43.449338620108314, 38.87268442684119], [43.45585988239214, 38.87268442684119], [43.45585988239214, 38.863701274], [43.449338620108314, 38.863701274]]], &quot;type&quot;: &quot;Polygon&quot;}, &quot;id&quot;: &quot;2&quot;, &quot;properties&quot;: {}, &quot;type&quot;: &quot;Feature&quot;}, {&quot;bbox&quot;: [43.45585988239214, 38.863701274, 43.46238044148421, 38.87268442684119], &quot;geometry&quot;: {&quot;coordinates&quot;: [[[43.45585988239214, 38.863701274], [43.45585988239214, 38.87268442684119], [43.46238044148421, 38.87268442684119], [43.46238044148421, 38.863701274], [43.45585988239214, 38.863701274]]], &quot;type&quot;: &quot;Polygon&quot;}, &quot;id&quot;: &quot;3&quot;, &quot;properties&quot;: {}, &quot;type&quot;: &quot;Feature&quot;}, {&quot;bbox&quot;: [43.46238044148421, 38.863701274, 43.4689002973759, 38.87268442684119], &quot;geometry&quot;: {&quot;coordinates&quot;: [[[43.46238044148421, 38.863701274], [43.46238044148421, 38.87268442684119], [43.4689002973759, 38.87268442684119], [43.4689002973759, 38.863701274], [43.46238044148421, 38.863701274]]], &quot;type&quot;: &quot;Polygon&quot;}, &quot;id&quot;: &quot;4&quot;, &quot;properties&quot;: {}, &quot;type&quot;: &quot;Feature&quot;}, {&quot;bbox&quot;: [43.436293986000074, 38.87268442684119, 43.44281665464139, 38.881667579682386], &quot;geometry&quot;: {&quot;coordinates&quot;: [[[43.436293986000074, 38.87268442684119], [43.436293986000074, 38.881667579682386], [43.44281665464139, 38.881667579682386], [43.44281665464139, 38.87268442684119], [43.436293986000074, 38.87268442684119]]], &quot;type&quot;: &quot;Polygon&quot;}, &quot;id&quot;: &quot;5&quot;, &quot;properties&quot;: {}, &quot;type&quot;: &quot;Feature&quot;}, {&quot;bbox&quot;: [43.44281665464139, 38.87268442684119, 43.449338620108314, 38.881667579682386], &quot;geometry&quot;: {&quot;coordinates&quot;: [[[43.44281665464139, 38.87268442684119], [43.44281665464139, 38.881667579682386], [43.449338620108314, 38.881667579682386], [43.449338620108314, 38.87268442684119], [43.44281665464139, 38.87268442684119]]], &quot;type&quot;: &quot;Polygon&quot;}, &quot;id&quot;: &quot;6&quot;, &quot;properties&quot;: {}, &quot;type&quot;: &quot;Feature&quot;}, {&quot;bbox&quot;: [43.449338620108314, 38.87268442684119, 43.45585988239214, 38.881667579682386], &quot;geometry&quot;: {&quot;coordinates&quot;: [[[43.449338620108314, 38.87268442684119], [43.449338620108314, 38.881667579682386], [43.45585988239214, 38.881667579682386], [43.45585988239214, 38.87268442684119], [43.449338620108314, 38.87268442684119]]], &quot;type&quot;: &quot;Polygon&quot;}, &quot;id&quot;: &quot;7&quot;, &quot;properties&quot;: {}, &quot;type&quot;: &quot;Feature&quot;}, {&quot;bbox&quot;: [43.45585988239214, 38.87268442684119, 43.46238044148421, 38.881667579682386], &quot;geometry&quot;: {&quot;coordinates&quot;: [[[43.45585988239214, 38.87268442684119], [43.45585988239214, 38.881667579682386], [43.46238044148421, 38.881667579682386], [43.46238044148421, 38.87268442684119], [43.45585988239214, 38.87268442684119]]], &quot;type&quot;: &quot;Polygon&quot;}, &quot;id&quot;: &quot;8&quot;, &quot;properties&quot;: {}, &quot;type&quot;: &quot;Feature&quot;}, {&quot;bbox&quot;: [43.46238044148421, 38.87268442684119, 43.4689002973759, 38.881667579682386], &quot;geometry&quot;: {&quot;coordinates&quot;: [[[43.46238044148421, 38.87268442684119], [43.46238044148421, 38.881667579682386], [43.4689002973759, 38.881667579682386], [43.4689002973759, 38.87268442684119], [43.46238044148421, 38.87268442684119]]], &quot;type&quot;: &quot;Polygon&quot;}, &quot;id&quot;: &quot;9&quot;, &quot;properties&quot;: {}, &quot;type&quot;: &quot;Feature&quot;}, {&quot;bbox&quot;: [43.436293986000074, 38.881667579682386, 43.44281665464139, 38.89065073252358], &quot;geometry&quot;: {&quot;coordinates&quot;: [[[43.436293986000074, 38.881667579682386], [43.436293986000074, 38.89065073252358], [43.44281665464139, 38.89065073252358], [43.44281665464139, 38.881667579682386], [43.436293986000074, 38.881667579682386]]], &quot;type&quot;: &quot;Polygon&quot;}, &quot;id&quot;: &quot;10&quot;, &quot;properties&quot;: {}, &quot;type&quot;: &quot;Feature&quot;}, {&quot;bbox&quot;: [43.44281665464139, 38.881667579682386, 43.449338620108314, 38.89065073252358], &quot;geometry&quot;: {&quot;coordinates&quot;: [[[43.44281665464139, 38.881667579682386], [43.44281665464139, 38.89065073252358], [43.449338620108314, 38.89065073252358], [43.449338620108314, 38.881667579682386], [43.44281665464139, 38.881667579682386]]], &quot;type&quot;: &quot;Polygon&quot;}, &quot;id&quot;: &quot;11&quot;, &quot;properties&quot;: {}, &quot;type&quot;: &quot;Feature&quot;}, {&quot;bbox&quot;: [43.449338620108314, 38.881667579682386, 43.45585988239214, 38.89065073252358], &quot;geometry&quot;: {&quot;coordinates&quot;: [[[43.449338620108314, 38.881667579682386], [43.449338620108314, 38.89065073252358], [43.45585988239214, 38.89065073252358], [43.45585988239214, 38.881667579682386], [43.449338620108314, 38.881667579682386]]], &quot;type&quot;: &quot;Polygon&quot;}, &quot;id&quot;: &quot;12&quot;, &quot;properties&quot;: {}, &quot;type&quot;: &quot;Feature&quot;}, {&quot;bbox&quot;: [43.45585988239214, 38.881667579682386, 43.46238044148421, 38.89065073252358], &quot;geometry&quot;: {&quot;coordinates&quot;: [[[43.45585988239214, 38.881667579682386], [43.45585988239214, 38.89065073252358], [43.46238044148421, 38.89065073252358], [43.46238044148421, 38.881667579682386], [43.45585988239214, 38.881667579682386]]], &quot;type&quot;: &quot;Polygon&quot;}, &quot;id&quot;: &quot;13&quot;, &quot;properties&quot;: {}, &quot;type&quot;: &quot;Feature&quot;}, {&quot;bbox&quot;: [43.46238044148421, 38.881667579682386, 43.4689002973759, 38.89065073252358], &quot;geometry&quot;: {&quot;coordinates&quot;: [[[43.46238044148421, 38.881667579682386], [43.46238044148421, 38.89065073252358], [43.4689002973759, 38.89065073252358], [43.4689002973759, 38.881667579682386], [43.46238044148421, 38.881667579682386]]], &quot;type&quot;: &quot;Polygon&quot;}, &quot;id&quot;: &quot;14&quot;, &quot;properties&quot;: {}, &quot;type&quot;: &quot;Feature&quot;}, {&quot;bbox&quot;: [43.436293986000074, 38.89065073252358, 43.44281665464139, 38.89963388536478], &quot;geometry&quot;: {&quot;coordinates&quot;: [[[43.436293986000074, 38.89065073252358], [43.436293986000074, 38.89963388536478], [43.44281665464139, 38.89963388536478], [43.44281665464139, 38.89065073252358], [43.436293986000074, 38.89065073252358]]], &quot;type&quot;: &quot;Polygon&quot;}, &quot;id&quot;: &quot;15&quot;, &quot;properties&quot;: {}, &quot;type&quot;: &quot;Feature&quot;}, {&quot;bbox&quot;: [43.44281665464139, 38.89065073252358, 43.449338620108314, 38.89963388536478], &quot;geometry&quot;: {&quot;coordinates&quot;: [[[43.44281665464139, 38.89065073252358], [43.44281665464139, 38.89963388536478], [43.449338620108314, 38.89963388536478], [43.449338620108314, 38.89065073252358], [43.44281665464139, 38.89065073252358]]], &quot;type&quot;: &quot;Polygon&quot;}, &quot;id&quot;: &quot;16&quot;, &quot;properties&quot;: {}, &quot;type&quot;: &quot;Feature&quot;}, {&quot;bbox&quot;: [43.449338620108314, 38.89065073252358, 43.45585988239214, 38.89963388536478], &quot;geometry&quot;: {&quot;coordinates&quot;: [[[43.449338620108314, 38.89065073252358], [43.449338620108314, 38.89963388536478], [43.45585988239214, 38.89963388536478], [43.45585988239214, 38.89065073252358], [43.449338620108314, 38.89065073252358]]], &quot;type&quot;: &quot;Polygon&quot;}, &quot;id&quot;: &quot;17&quot;, &quot;properties&quot;: {}, &quot;type&quot;: &quot;Feature&quot;}, {&quot;bbox&quot;: [43.45585988239214, 38.89065073252358, 43.46238044148421, 38.89963388536478], &quot;geometry&quot;: {&quot;coordinates&quot;: [[[43.45585988239214, 38.89065073252358], [43.45585988239214, 38.89963388536478], [43.46238044148421, 38.89963388536478], [43.46238044148421, 38.89065073252358], [43.45585988239214, 38.89065073252358]]], &quot;type&quot;: &quot;Polygon&quot;}, &quot;id&quot;: &quot;18&quot;, &quot;properties&quot;: {}, &quot;type&quot;: &quot;Feature&quot;}, {&quot;bbox&quot;: [43.46238044148421, 38.89065073252358, 43.4689002973759, 38.89963388536478], &quot;geometry&quot;: {&quot;coordinates&quot;: [[[43.46238044148421, 38.89065073252358], [43.46238044148421, 38.89963388536478], [43.4689002973759, 38.89963388536478], [43.4689002973759, 38.89065073252358], [43.46238044148421, 38.89065073252358]]], &quot;type&quot;: &quot;Polygon&quot;}, &quot;id&quot;: &quot;19&quot;, &quot;properties&quot;: {}, &quot;type&quot;: &quot;Feature&quot;}, {&quot;bbox&quot;: [43.436293986000074, 38.89963388536478, 43.44281665464139, 38.908617038205975], &quot;geometry&quot;: {&quot;coordinates&quot;: [[[43.436293986000074, 38.89963388536478], [43.436293986000074, 38.908617038205975], [43.44281665464139, 38.908617038205975], [43.44281665464139, 38.89963388536478], [43.436293986000074, 38.89963388536478]]], &quot;type&quot;: &quot;Polygon&quot;}, &quot;id&quot;: &quot;20&quot;, &quot;properties&quot;: {}, &quot;type&quot;: &quot;Feature&quot;}, {&quot;bbox&quot;: [43.44281665464139, 38.89963388536478, 43.449338620108314, 38.908617038205975], &quot;geometry&quot;: {&quot;coordinates&quot;: [[[43.44281665464139, 38.89963388536478], [43.44281665464139, 38.908617038205975], [43.449338620108314, 38.908617038205975], [43.449338620108314, 38.89963388536478], [43.44281665464139, 38.89963388536478]]], &quot;type&quot;: &quot;Polygon&quot;}, &quot;id&quot;: &quot;21&quot;, &quot;properties&quot;: {}, &quot;type&quot;: &quot;Feature&quot;}, {&quot;bbox&quot;: [43.449338620108314, 38.89963388536478, 43.45585988239214, 38.908617038205975], &quot;geometry&quot;: {&quot;coordinates&quot;: [[[43.449338620108314, 38.89963388536478], [43.449338620108314, 38.908617038205975], [43.45585988239214, 38.908617038205975], [43.45585988239214, 38.89963388536478], [43.449338620108314, 38.89963388536478]]], &quot;type&quot;: &quot;Polygon&quot;}, &quot;id&quot;: &quot;22&quot;, &quot;properties&quot;: {}, &quot;type&quot;: &quot;Feature&quot;}, {&quot;bbox&quot;: [43.45585988239214, 38.89963388536478, 43.46238044148421, 38.908617038205975], &quot;geometry&quot;: {&quot;coordinates&quot;: [[[43.45585988239214, 38.89963388536478], [43.45585988239214, 38.908617038205975], [43.46238044148421, 38.908617038205975], [43.46238044148421, 38.89963388536478], [43.45585988239214, 38.89963388536478]]], &quot;type&quot;: &quot;Polygon&quot;}, &quot;id&quot;: &quot;23&quot;, &quot;properties&quot;: {}, &quot;type&quot;: &quot;Feature&quot;}, {&quot;bbox&quot;: [43.46238044148421, 38.89963388536478, 43.4689002973759, 38.908617038205975], &quot;geometry&quot;: {&quot;coordinates&quot;: [[[43.46238044148421, 38.89963388536478], [43.46238044148421, 38.908617038205975], [43.4689002973759, 38.908617038205975], [43.4689002973759, 38.89963388536478], [43.46238044148421, 38.89963388536478]]], &quot;type&quot;: &quot;Polygon&quot;}, &quot;id&quot;: &quot;24&quot;, &quot;properties&quot;: {}, &quot;type&quot;: &quot;Feature&quot;}], &quot;type&quot;: &quot;FeatureCollection&quot;});\n",
       "\n",
       "        \n",
       "&lt;/script&gt;\" style=\"position:absolute;width:100%;height:100%;left:0;top:0;border:none !important;\" allowfullscreen webkitallowfullscreen mozallowfullscreen></iframe></div></div>"
      ],
      "text/plain": [
       "<folium.folium.Map at 0x1d6ef4dde80>"
      ]
     },
     "execution_count": 183,
     "metadata": {},
     "output_type": "execute_result"
    }
   ],
   "source": [
    "import folium\n",
    "\n",
    "\n",
    "map = folium.Map(location = [cx,cy], tiles='OpenStreetMap' , zoom_start = 15)\n",
    "\n",
    "\n",
    "folium.GeoJson(\n",
    "    data=grid_geojson,\n",
    "    name='layerName',\n",
    "\n",
    ").add_to(map)\n",
    "map"
   ]
  },
  {
   "cell_type": "markdown",
   "metadata": {},
   "source": [
    "#  Final Function"
   ]
  },
  {
   "cell_type": "code",
   "execution_count": 142,
   "metadata": {},
   "outputs": [],
   "source": [
    "def grid(geodata=gpdata,height=50,width=50):\n",
    "    #extracting the edpoints of the geodata\n",
    "    xmin, ymin, xmax, ymax = geodata.total_bounds\n",
    "   \n",
    "    \n",
    "    return \"{0},{1},{2},{3}\".format(ymin, xmin, ymax, xmax)\n",
    "\n"
   ]
  }
 ],
 "metadata": {
  "kernelspec": {
   "display_name": "Python 3 (ipykernel)",
   "language": "python",
   "name": "python3"
  },
  "language_info": {
   "codemirror_mode": {
    "name": "ipython",
    "version": 3
   },
   "file_extension": ".py",
   "mimetype": "text/x-python",
   "name": "python",
   "nbconvert_exporter": "python",
   "pygments_lexer": "ipython3",
   "version": "3.8.12"
  }
 },
 "nbformat": 4,
 "nbformat_minor": 2
}
