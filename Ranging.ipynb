{
 "cells": [
  {
   "cell_type": "code",
   "execution_count": 132,
   "metadata": {},
   "outputs": [],
   "source": [
    "from sklearn.linear_model import LinearRegression\n",
    "from sklearn.metrics import mean_squared_error\n",
    "from sklearn.metrics import r2_score\n",
    "import pandas as pd\n",
    "import numpy as np\n",
    "import matplotlib.pyplot as plt\n",
    "import os\n",
    "import glob\n",
    "import pandas as pd\n",
    "import numpy as np\n",
    "import sklearn"
   ]
  },
  {
   "cell_type": "code",
   "execution_count": 133,
   "metadata": {},
   "outputs": [],
   "source": [
    "os.chdir(\"C:/Users/Karen/Desktop/JungleProof\\ROAS Calculator\")"
   ]
  },
  {
   "cell_type": "code",
   "execution_count": 134,
   "metadata": {},
   "outputs": [
    {
     "name": "stdout",
     "output_type": "stream",
     "text": [
      "Index(['Source.Name', 'Campaign Name', 'Link Clicks', 'Website Purchases',\n",
      "       'Website Purchases Conversion Value',\n",
      "       'Website Purchase ROAS (Return on Ad Spend)', 'Adds to Cart',\n",
      "       'Landing Page Views', 'Price', 'BuyNow', 'Subscriber',\n",
      "       'Reporting Starts', 'Reporting Ends'],\n",
      "      dtype='object')\n"
     ]
    },
    {
     "data": {
      "text/html": [
       "<div>\n",
       "<style scoped>\n",
       "    .dataframe tbody tr th:only-of-type {\n",
       "        vertical-align: middle;\n",
       "    }\n",
       "\n",
       "    .dataframe tbody tr th {\n",
       "        vertical-align: top;\n",
       "    }\n",
       "\n",
       "    .dataframe thead th {\n",
       "        text-align: right;\n",
       "    }\n",
       "</style>\n",
       "<table border=\"1\" class=\"dataframe\">\n",
       "  <thead>\n",
       "    <tr style=\"text-align: right;\">\n",
       "      <th></th>\n",
       "      <th>Link Clicks</th>\n",
       "      <th>Website Purchases</th>\n",
       "      <th>Website Purchases Conversion Value</th>\n",
       "      <th>Website Purchase ROAS (Return on Ad Spend)</th>\n",
       "      <th>Adds to Cart</th>\n",
       "      <th>Landing Page Views</th>\n",
       "      <th>Price</th>\n",
       "      <th>BuyNow</th>\n",
       "      <th>Subscriber</th>\n",
       "    </tr>\n",
       "  </thead>\n",
       "  <tbody>\n",
       "    <tr>\n",
       "      <th>0</th>\n",
       "      <td>2784.0</td>\n",
       "      <td>16.0</td>\n",
       "      <td>4944.0</td>\n",
       "      <td>8.408878</td>\n",
       "      <td>81.0</td>\n",
       "      <td>2189.0</td>\n",
       "      <td>309.0</td>\n",
       "      <td>0.029094828</td>\n",
       "      <td>0.007309274</td>\n",
       "    </tr>\n",
       "    <tr>\n",
       "      <th>1</th>\n",
       "      <td>NaN</td>\n",
       "      <td>NaN</td>\n",
       "      <td>NaN</td>\n",
       "      <td>NaN</td>\n",
       "      <td>NaN</td>\n",
       "      <td>NaN</td>\n",
       "      <td>0.0</td>\n",
       "      <td>#DIV/0!</td>\n",
       "      <td>#DIV/0!</td>\n",
       "    </tr>\n",
       "    <tr>\n",
       "      <th>2</th>\n",
       "      <td>26.0</td>\n",
       "      <td>3.0</td>\n",
       "      <td>1167.0</td>\n",
       "      <td>52.686230</td>\n",
       "      <td>9.0</td>\n",
       "      <td>25.0</td>\n",
       "      <td>389.0</td>\n",
       "      <td>0.346153846</td>\n",
       "      <td>0.12</td>\n",
       "    </tr>\n",
       "    <tr>\n",
       "      <th>3</th>\n",
       "      <td>102.0</td>\n",
       "      <td>NaN</td>\n",
       "      <td>NaN</td>\n",
       "      <td>NaN</td>\n",
       "      <td>1.0</td>\n",
       "      <td>83.0</td>\n",
       "      <td>0.0</td>\n",
       "      <td>0.009803922</td>\n",
       "      <td>0</td>\n",
       "    </tr>\n",
       "    <tr>\n",
       "      <th>4</th>\n",
       "      <td>12.0</td>\n",
       "      <td>NaN</td>\n",
       "      <td>NaN</td>\n",
       "      <td>NaN</td>\n",
       "      <td>NaN</td>\n",
       "      <td>12.0</td>\n",
       "      <td>0.0</td>\n",
       "      <td>0</td>\n",
       "      <td>0</td>\n",
       "    </tr>\n",
       "  </tbody>\n",
       "</table>\n",
       "</div>"
      ],
      "text/plain": [
       "   Link Clicks  Website Purchases  Website Purchases Conversion Value  \\\n",
       "0       2784.0               16.0                              4944.0   \n",
       "1          NaN                NaN                                 NaN   \n",
       "2         26.0                3.0                              1167.0   \n",
       "3        102.0                NaN                                 NaN   \n",
       "4         12.0                NaN                                 NaN   \n",
       "\n",
       "   Website Purchase ROAS (Return on Ad Spend)  Adds to Cart  \\\n",
       "0                                    8.408878          81.0   \n",
       "1                                         NaN           NaN   \n",
       "2                                   52.686230           9.0   \n",
       "3                                         NaN           1.0   \n",
       "4                                         NaN           NaN   \n",
       "\n",
       "   Landing Page Views  Price       BuyNow   Subscriber  \n",
       "0              2189.0  309.0  0.029094828  0.007309274  \n",
       "1                 NaN    0.0      #DIV/0!      #DIV/0!  \n",
       "2                25.0  389.0  0.346153846         0.12  \n",
       "3                83.0    0.0  0.009803922            0  \n",
       "4                12.0    0.0            0            0  "
      ]
     },
     "execution_count": 134,
     "metadata": {},
     "output_type": "execute_result"
    }
   ],
   "source": [
    "data=pd.read_csv('ROAS.csv')\n",
    "print(data.columns)\n",
    "\n",
    "data=data[['Link Clicks', 'Website Purchases',\n",
    "       'Website Purchases Conversion Value',\n",
    "       'Website Purchase ROAS (Return on Ad Spend)', 'Adds to Cart',\n",
    "       'Landing Page Views', 'Price', 'BuyNow', 'Subscriber']]\n",
    "data.head()\n"
   ]
  },
  {
   "cell_type": "code",
   "execution_count": 135,
   "metadata": {},
   "outputs": [
    {
     "data": {
      "text/plain": [
       "(4796, 9)"
      ]
     },
     "execution_count": 135,
     "metadata": {},
     "output_type": "execute_result"
    }
   ],
   "source": [
    "data.shape"
   ]
  },
  {
   "cell_type": "code",
   "execution_count": 136,
   "metadata": {},
   "outputs": [
    {
     "data": {
      "text/plain": [
       "(1535, 9)"
      ]
     },
     "execution_count": 136,
     "metadata": {},
     "output_type": "execute_result"
    }
   ],
   "source": [
    "data_filtered1=data[data['Website Purchase ROAS (Return on Ad Spend)'].notnull()]\n",
    "data_filtered1.shape"
   ]
  },
  {
   "cell_type": "code",
   "execution_count": 137,
   "metadata": {},
   "outputs": [
    {
     "name": "stderr",
     "output_type": "stream",
     "text": [
      "C:\\ProgramData\\Anaconda3\\lib\\site-packages\\ipykernel_launcher.py:1: SettingWithCopyWarning: \n",
      "A value is trying to be set on a copy of a slice from a DataFrame.\n",
      "Try using .loc[row_indexer,col_indexer] = value instead\n",
      "\n",
      "See the caveats in the documentation: http://pandas.pydata.org/pandas-docs/stable/indexing.html#indexing-view-versus-copy\n",
      "  \"\"\"Entry point for launching an IPython kernel.\n"
     ]
    }
   ],
   "source": [
    "data_filtered1['ROAS RANGE']=pd.cut(data_filtered1['Website Purchase ROAS (Return on Ad Spend)'],bins = [0,3,4,10,np.inf],right=False)"
   ]
  },
  {
   "cell_type": "code",
   "execution_count": 138,
   "metadata": {},
   "outputs": [
    {
     "name": "stdout",
     "output_type": "stream",
     "text": [
      "[0.0, 3.0)     836\n",
      "[4.0, 10.0)    336\n",
      "[3.0, 4.0)     253\n",
      "[10.0, inf)    110\n",
      "Name: ROAS RANGE, dtype: int64\n"
     ]
    },
    {
     "data": {
      "text/plain": [
       "[0.0, 3.0)     0.544625\n",
       "[4.0, 10.0)    0.218893\n",
       "[3.0, 4.0)     0.164821\n",
       "[10.0, inf)    0.071661\n",
       "Name: ROAS RANGE, dtype: float64"
      ]
     },
     "execution_count": 138,
     "metadata": {},
     "output_type": "execute_result"
    }
   ],
   "source": [
    "print(data_filtered1['ROAS RANGE'].value_counts())\n",
    "data_filtered1['ROAS RANGE'].value_counts(normalize=True)"
   ]
  },
  {
   "cell_type": "code",
   "execution_count": 141,
   "metadata": {},
   "outputs": [
    {
     "name": "stderr",
     "output_type": "stream",
     "text": [
      "C:\\ProgramData\\Anaconda3\\lib\\site-packages\\ipykernel_launcher.py:2: SettingWithCopyWarning: \n",
      "A value is trying to be set on a copy of a slice from a DataFrame.\n",
      "Try using .loc[row_indexer,col_indexer] = value instead\n",
      "\n",
      "See the caveats in the documentation: http://pandas.pydata.org/pandas-docs/stable/indexing.html#indexing-view-versus-copy\n",
      "  \n"
     ]
    },
    {
     "data": {
      "text/plain": [
       "[0, 100)        0.554455\n",
       "[100, 200)      0.299670\n",
       "[200, 300)      0.093069\n",
       "[300, 400)      0.039604\n",
       "[400, 500)      0.005281\n",
       "[1000, 2000)    0.003300\n",
       "[2000, 3000)    0.002640\n",
       "[800, 900)      0.000660\n",
       "[700, 800)      0.000660\n",
       "[500, 600)      0.000660\n",
       "[900, 1000)     0.000000\n",
       "[600, 700)      0.000000\n",
       "Name: Price Range, dtype: float64"
      ]
     },
     "execution_count": 141,
     "metadata": {},
     "output_type": "execute_result"
    }
   ],
   "source": [
    "# data_filtered1['ROAS RANGE']=\n",
    "data_filtered1['Price Range']=pd.cut(data_filtered1['Price'],bins = [i for i in range(0,1000,100)]+[i for i in range(1000,4000,1000)],right=False)\n",
    "data_filtered1['Price Range'].value_counts(normalize=True)"
   ]
  },
  {
   "cell_type": "code",
   "execution_count": 146,
   "metadata": {},
   "outputs": [
    {
     "name": "stderr",
     "output_type": "stream",
     "text": [
      "C:\\ProgramData\\Anaconda3\\lib\\site-packages\\ipykernel_launcher.py:7: SettingWithCopyWarning: \n",
      "A value is trying to be set on a copy of a slice from a DataFrame.\n",
      "Try using .loc[row_indexer,col_indexer] = value instead\n",
      "\n",
      "See the caveats in the documentation: http://pandas.pydata.org/pandas-docs/stable/indexing.html#indexing-view-versus-copy\n",
      "  import sys\n",
      "C:\\ProgramData\\Anaconda3\\lib\\site-packages\\ipykernel_launcher.py:8: SettingWithCopyWarning: \n",
      "A value is trying to be set on a copy of a slice from a DataFrame.\n",
      "Try using .loc[row_indexer,col_indexer] = value instead\n",
      "\n",
      "See the caveats in the documentation: http://pandas.pydata.org/pandas-docs/stable/indexing.html#indexing-view-versus-copy\n",
      "  \n"
     ]
    }
   ],
   "source": [
    "# pd.crosstab(data_filtered1['Price Range'], data_filtered1['ROAS RANGE'])\n",
    "\n",
    "\n",
    "# a=pd.categorical(data_filtered1['Price Range'])\n",
    "a=data_filtered1['Price Range']\n",
    "b=data_filtered1['ROAS RANGE'].cat.as_unordered()\n",
    "data_filtered1['c']=[str(i) for i in a]\n",
    "data_filtered1['d']=[str(i) for i in b]\n"
   ]
  },
  {
   "cell_type": "code",
   "execution_count": 149,
   "metadata": {},
   "outputs": [
    {
     "data": {
      "text/html": [
       "<div>\n",
       "<style scoped>\n",
       "    .dataframe tbody tr th:only-of-type {\n",
       "        vertical-align: middle;\n",
       "    }\n",
       "\n",
       "    .dataframe tbody tr th {\n",
       "        vertical-align: top;\n",
       "    }\n",
       "\n",
       "    .dataframe thead th {\n",
       "        text-align: right;\n",
       "    }\n",
       "</style>\n",
       "<table border=\"1\" class=\"dataframe\">\n",
       "  <thead>\n",
       "    <tr style=\"text-align: right;\">\n",
       "      <th>d</th>\n",
       "      <th>[0.0, 3.0)</th>\n",
       "      <th>[10.0, inf)</th>\n",
       "      <th>[3.0, 4.0)</th>\n",
       "      <th>[4.0, 10.0)</th>\n",
       "    </tr>\n",
       "    <tr>\n",
       "      <th>c</th>\n",
       "      <th></th>\n",
       "      <th></th>\n",
       "      <th></th>\n",
       "      <th></th>\n",
       "    </tr>\n",
       "  </thead>\n",
       "  <tbody>\n",
       "    <tr>\n",
       "      <th>[0.0, 100.0)</th>\n",
       "      <td>543</td>\n",
       "      <td>14</td>\n",
       "      <td>137</td>\n",
       "      <td>146</td>\n",
       "    </tr>\n",
       "    <tr>\n",
       "      <th>[100.0, 200.0)</th>\n",
       "      <td>224</td>\n",
       "      <td>53</td>\n",
       "      <td>74</td>\n",
       "      <td>103</td>\n",
       "    </tr>\n",
       "    <tr>\n",
       "      <th>[1000.0, 2000.0)</th>\n",
       "      <td>3</td>\n",
       "      <td>1</td>\n",
       "      <td>0</td>\n",
       "      <td>1</td>\n",
       "    </tr>\n",
       "    <tr>\n",
       "      <th>[200.0, 300.0)</th>\n",
       "      <td>51</td>\n",
       "      <td>16</td>\n",
       "      <td>27</td>\n",
       "      <td>47</td>\n",
       "    </tr>\n",
       "    <tr>\n",
       "      <th>[2000.0, 3000.0)</th>\n",
       "      <td>0</td>\n",
       "      <td>3</td>\n",
       "      <td>0</td>\n",
       "      <td>1</td>\n",
       "    </tr>\n",
       "    <tr>\n",
       "      <th>[300.0, 400.0)</th>\n",
       "      <td>9</td>\n",
       "      <td>12</td>\n",
       "      <td>11</td>\n",
       "      <td>28</td>\n",
       "    </tr>\n",
       "    <tr>\n",
       "      <th>[400.0, 500.0)</th>\n",
       "      <td>2</td>\n",
       "      <td>3</td>\n",
       "      <td>1</td>\n",
       "      <td>2</td>\n",
       "    </tr>\n",
       "    <tr>\n",
       "      <th>[500.0, 600.0)</th>\n",
       "      <td>0</td>\n",
       "      <td>0</td>\n",
       "      <td>0</td>\n",
       "      <td>1</td>\n",
       "    </tr>\n",
       "    <tr>\n",
       "      <th>[700.0, 800.0)</th>\n",
       "      <td>0</td>\n",
       "      <td>0</td>\n",
       "      <td>0</td>\n",
       "      <td>1</td>\n",
       "    </tr>\n",
       "    <tr>\n",
       "      <th>[800.0, 900.0)</th>\n",
       "      <td>1</td>\n",
       "      <td>0</td>\n",
       "      <td>0</td>\n",
       "      <td>0</td>\n",
       "    </tr>\n",
       "    <tr>\n",
       "      <th>nan</th>\n",
       "      <td>3</td>\n",
       "      <td>8</td>\n",
       "      <td>3</td>\n",
       "      <td>6</td>\n",
       "    </tr>\n",
       "  </tbody>\n",
       "</table>\n",
       "</div>"
      ],
      "text/plain": [
       "d                 [0.0, 3.0)  [10.0, inf)  [3.0, 4.0)  [4.0, 10.0)\n",
       "c                                                                 \n",
       "[0.0, 100.0)             543           14         137          146\n",
       "[100.0, 200.0)           224           53          74          103\n",
       "[1000.0, 2000.0)           3            1           0            1\n",
       "[200.0, 300.0)            51           16          27           47\n",
       "[2000.0, 3000.0)           0            3           0            1\n",
       "[300.0, 400.0)             9           12          11           28\n",
       "[400.0, 500.0)             2            3           1            2\n",
       "[500.0, 600.0)             0            0           0            1\n",
       "[700.0, 800.0)             0            0           0            1\n",
       "[800.0, 900.0)             1            0           0            0\n",
       "nan                        3            8           3            6"
      ]
     },
     "execution_count": 149,
     "metadata": {},
     "output_type": "execute_result"
    }
   ],
   "source": [
    "pd.crosstab(data_filtered1.c,data_filtered1.d)"
   ]
  },
  {
   "cell_type": "code",
   "execution_count": null,
   "metadata": {},
   "outputs": [],
   "source": [
    "#To update data for loop\n"
   ]
  }
 ],
 "metadata": {
  "kernelspec": {
   "display_name": "Python 3",
   "language": "python",
   "name": "python3"
  },
  "language_info": {
   "codemirror_mode": {
    "name": "ipython",
    "version": 3
   },
   "file_extension": ".py",
   "mimetype": "text/x-python",
   "name": "python",
   "nbconvert_exporter": "python",
   "pygments_lexer": "ipython3",
   "version": "3.7.3"
  }
 },
 "nbformat": 4,
 "nbformat_minor": 2
}
